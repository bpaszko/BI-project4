{
 "cells": [
  {
   "cell_type": "code",
   "execution_count": 1,
   "metadata": {},
   "outputs": [],
   "source": [
    "from Bio.Seq import reverse_complement\n",
    "from collections import Counter\n",
    "import itertools\n",
    "import pandas as pd\n",
    "\n",
    "from sklearn.ensemble import RandomForestClassifier\n",
    "from sklearn.metrics import auc\n",
    "from sklearn.model_selection import cross_validate\n",
    "\n",
    "from tqdm import tqdm_notebook as tqdm"
   ]
  },
  {
   "cell_type": "code",
   "execution_count": 2,
   "metadata": {},
   "outputs": [],
   "source": [
    "def load_fasta(path):\n",
    "    with open(path) as f:\n",
    "        f.readline()\n",
    "        content = f.read()\n",
    "        \n",
    "    for ch in [' ', '\\n'] :\n",
    "        content = content.replace(ch, '').upper()\n",
    "    return content\n",
    "\n",
    "\n",
    "def init_combinations():\n",
    "    genom_combinations = {}\n",
    "    all_combinations = itertools.product('ACGT', repeat=4)\n",
    "    for comb in all_combinations:\n",
    "        comb = ''.join(comb)\n",
    "        if comb in genom_combinations or reverse_complement(comb) in genom_combinations:\n",
    "            continue\n",
    "        genom_combinations[comb] = 0\n",
    "    return genom_combinations\n",
    "\n",
    "\n",
    "def compute_features(sequence, step=1, init=None, use_tqdm=False):\n",
    "    # Computes counts for all features for given sequence \n",
    "    # (also includes N characters which are disposed of later)\n",
    "    \n",
    "    if init is None:\n",
    "        init = init_combinations()\n",
    "        \n",
    "    c = Counter(init)\n",
    "    progress_bar = tqdm if use_tqdm else lambda f: f\n",
    "    for start_i in progress_bar(range(0, len(sequence)-4, step)):\n",
    "        gen = sequence[start_i:start_i+4]\n",
    "        if gen in c:\n",
    "            c.update([gen])\n",
    "        else:\n",
    "            c.update([reverse_complement(gen)])\n",
    "    return c"
   ]
  },
  {
   "cell_type": "code",
   "execution_count": 3,
   "metadata": {},
   "outputs": [
    {
     "data": {
      "text/plain": [
       "'ATCCACCCGCCTTGGCCTCCTAAAGTGCTGGGATTACAGGTGTTAGCCACCACGTCCAGCTGTTAATTTTTATTTAATAAGAATGACAGAGTGAGGGCCATCACTGTTAATGAAGCCAGTGTTGCTCACAGCCTCCCCTTGGTCACTTTTTGTGACTGAAGGGCATGTGTTCAGGCAAGATTGTTGGGTGGCTGTGTTTTGTCTTCTTCCAGCTCGGCCATGGAATAGCCTGTGGGGACCTACTCTGTGGTCCCCAGGGAGCTACTCTGTGGGGGCTGTTTCTGTTCAGCAGGGAAGGCTCTGCCCTTGCTGTTAGCTCCTGGAGGGCTGCGGACGGCACCTGCTGTGTTCACAGATGACAGTTACTTCCCTAGGTAGTCTGCATGTTGGGCCTCCCAGGACTGGTTCTCTAAGGGCAATGTGAGGACAGACAGAAAAACCAAATTCTGCCAAAGTTTTTAAATAGGTTTATTCTGAGCCAATAAGAGTGACCATGGCCTGGGAAATACAGTCTTAAGAGATCCCGAGGAAGTGCACCTGAGGCGGTCAGTTACAATTTGGTTTTATGTATTTATTTATTTTTATTTTATTTATTTATTTATTTGTTTTTGAGACGGAGGCTTGCTCTGTCGCCCAGGCTGGAGTGCAGTGGCGTGATCTCGGCTCACCGCAAGCTCCGCCTCCCGCGTTCCTGCCATTCTCCTGCCTCAGCCTCCCGAGTAGCTGGGACTACAGGCGCCCGCCACCATGCCTGGCTAATTTTTTTATATTTTTAGTAGAGACGGGGTTTCACCGTGTTAGCCAGGATGGTCTCAATCTCCTGACCTCGTGATCCGCCCGCCTCTGCCTCCCAAAGTGCTGGGATTACAGGCGTGAGCCACCACTCCCAGCACAATTGGTTTTGTACATTTCAGGGAGATGCGAACTGCAGGTGGAATCAGAAAACAGTACACGGGCCGGGCGCGGTGGCTCACGCCTGTAATCCCAGCACTTTGAGCTGAGGAGTTCAAGACCAGTTTGAGCAACTTGGTGAAACCCCATCTCTACCAAAAATACAAAAAAGTTGGCTAGTCATGGTGATGTGCACCTGGGGTTGCTCAGGGGGCTGAGGCAGGAGGATTGCTTGAGCCCAGGAGGTAGAGGTTGCAGTGAGCCGAGATCTCGCCATTGCACTACAGCCTGGGTGACAGAGTGAGACCCCATCTCAAAAAATCAATCAATCAATAAATCAATACATAGAAGATGTGCATTGGATCAGCCCCAAAAGGCGAGATATCTTGAAGCTTACAGGTTATAGGTGGGTTTAGGGATTCTTTAGTTGGCAGTTGGTTGAAAGAGTTGAGCTTTGCCTAAAAACTGGGAGTCAGTAGAAAGGAATGCTTGAGTTAAAATAAGGAGGTCTGCTGTCTGTCATGTGGTGCCATGGCAGAGTCACAATATACCAGGTCAAAAACACCCATTCCACAAGCTTTTGTGGTTTGTAAGGCGTGATTCCCCTAC'"
      ]
     },
     "execution_count": 3,
     "metadata": {},
     "output_type": "execute_result"
    }
   ],
   "source": [
    "data = load_fasta('data/chr21.fa')\n",
    "test_start = data.find('A')\n",
    "length = 1500\n",
    "test_seq = data[test_start:test_start+length]\n",
    "test_seq"
   ]
  },
  {
   "cell_type": "code",
   "execution_count": 4,
   "metadata": {},
   "outputs": [
    {
     "data": {
      "text/plain": [
       "136"
      ]
     },
     "execution_count": 4,
     "metadata": {},
     "output_type": "execute_result"
    }
   ],
   "source": [
    "len(init_combinations())"
   ]
  },
  {
   "cell_type": "code",
   "execution_count": 5,
   "metadata": {},
   "outputs": [
    {
     "data": {
      "text/plain": [
       "[('AAAA', 38),\n",
       " ('ACAG', 28),\n",
       " ('CAGG', 28),\n",
       " ('AGGC', 25),\n",
       " ('AGCC', 23),\n",
       " ('CCAG', 23),\n",
       " ('CCCA', 23),\n",
       " ('CAGC', 22),\n",
       " ('CTCA', 22),\n",
       " ('AAAT', 21)]"
      ]
     },
     "execution_count": 5,
     "metadata": {},
     "output_type": "execute_result"
    }
   ],
   "source": [
    "compute_features(test_seq).most_common(10)"
   ]
  },
  {
   "cell_type": "markdown",
   "metadata": {},
   "source": [
    "# Model"
   ]
  },
  {
   "cell_type": "code",
   "execution_count": 6,
   "metadata": {},
   "outputs": [],
   "source": [
    "def load_examples(path, label):\n",
    "    # loads vista1500 and random1500\n",
    "    \n",
    "    with open(path) as f:\n",
    "        lines = f.readlines()\n",
    "        \n",
    "    examples = []\n",
    "    for line in lines:\n",
    "        line = line.strip()\n",
    "        if not line or line.startswith('>'):\n",
    "            continue\n",
    "            \n",
    "        else:\n",
    "            sequence = line.upper()\n",
    "            examples.append((sequence, label))\n",
    "    return examples\n",
    "\n",
    "\n",
    "def examples_to_df(examples):\n",
    "    # computes features for each example from vista1500 and random1500\n",
    "    \n",
    "    init = init_combinations()\n",
    "    rows = []\n",
    "    for sequence, label in examples:\n",
    "        count = compute_features(sequence)\n",
    "        count['label'] = label\n",
    "        row = pd.Series(count)\n",
    "        rows.append(row)\n",
    "    df = pd.concat(rows, axis=1).T\n",
    "    return df\n",
    "\n",
    "\n",
    "def load_df(path, label):\n",
    "    examples = load_examples(path, label)\n",
    "    return examples_to_df(examples)"
   ]
  },
  {
   "cell_type": "code",
   "execution_count": 7,
   "metadata": {},
   "outputs": [
    {
     "data": {
      "text/html": [
       "<div>\n",
       "<style scoped>\n",
       "    .dataframe tbody tr th:only-of-type {\n",
       "        vertical-align: middle;\n",
       "    }\n",
       "\n",
       "    .dataframe tbody tr th {\n",
       "        vertical-align: top;\n",
       "    }\n",
       "\n",
       "    .dataframe thead th {\n",
       "        text-align: right;\n",
       "    }\n",
       "</style>\n",
       "<table border=\"1\" class=\"dataframe\">\n",
       "  <thead>\n",
       "    <tr style=\"text-align: right;\">\n",
       "      <th></th>\n",
       "      <th>AAAA</th>\n",
       "      <th>AAAC</th>\n",
       "      <th>AAAG</th>\n",
       "      <th>AAAT</th>\n",
       "      <th>AACA</th>\n",
       "      <th>AACC</th>\n",
       "      <th>AACG</th>\n",
       "      <th>AACT</th>\n",
       "      <th>AAGA</th>\n",
       "      <th>AAGC</th>\n",
       "      <th>...</th>\n",
       "      <th>TACA</th>\n",
       "      <th>TAGA</th>\n",
       "      <th>TATA</th>\n",
       "      <th>TCAA</th>\n",
       "      <th>TCCA</th>\n",
       "      <th>TCGA</th>\n",
       "      <th>TGAA</th>\n",
       "      <th>TGCA</th>\n",
       "      <th>TTAA</th>\n",
       "      <th>label</th>\n",
       "    </tr>\n",
       "  </thead>\n",
       "  <tbody>\n",
       "    <tr>\n",
       "      <th>0</th>\n",
       "      <td>51</td>\n",
       "      <td>22</td>\n",
       "      <td>21</td>\n",
       "      <td>29</td>\n",
       "      <td>26</td>\n",
       "      <td>9</td>\n",
       "      <td>0</td>\n",
       "      <td>18</td>\n",
       "      <td>27</td>\n",
       "      <td>7</td>\n",
       "      <td>...</td>\n",
       "      <td>9</td>\n",
       "      <td>23</td>\n",
       "      <td>12</td>\n",
       "      <td>17</td>\n",
       "      <td>16</td>\n",
       "      <td>0</td>\n",
       "      <td>25</td>\n",
       "      <td>7</td>\n",
       "      <td>10</td>\n",
       "      <td>0</td>\n",
       "    </tr>\n",
       "    <tr>\n",
       "      <th>1</th>\n",
       "      <td>33</td>\n",
       "      <td>19</td>\n",
       "      <td>26</td>\n",
       "      <td>31</td>\n",
       "      <td>20</td>\n",
       "      <td>9</td>\n",
       "      <td>0</td>\n",
       "      <td>14</td>\n",
       "      <td>24</td>\n",
       "      <td>12</td>\n",
       "      <td>...</td>\n",
       "      <td>12</td>\n",
       "      <td>16</td>\n",
       "      <td>6</td>\n",
       "      <td>25</td>\n",
       "      <td>20</td>\n",
       "      <td>1</td>\n",
       "      <td>23</td>\n",
       "      <td>6</td>\n",
       "      <td>7</td>\n",
       "      <td>1</td>\n",
       "    </tr>\n",
       "    <tr>\n",
       "      <th>2</th>\n",
       "      <td>9</td>\n",
       "      <td>9</td>\n",
       "      <td>7</td>\n",
       "      <td>6</td>\n",
       "      <td>7</td>\n",
       "      <td>9</td>\n",
       "      <td>5</td>\n",
       "      <td>4</td>\n",
       "      <td>9</td>\n",
       "      <td>5</td>\n",
       "      <td>...</td>\n",
       "      <td>3</td>\n",
       "      <td>7</td>\n",
       "      <td>0</td>\n",
       "      <td>3</td>\n",
       "      <td>22</td>\n",
       "      <td>2</td>\n",
       "      <td>8</td>\n",
       "      <td>8</td>\n",
       "      <td>0</td>\n",
       "      <td>1</td>\n",
       "    </tr>\n",
       "    <tr>\n",
       "      <th>3</th>\n",
       "      <td>58</td>\n",
       "      <td>20</td>\n",
       "      <td>28</td>\n",
       "      <td>39</td>\n",
       "      <td>30</td>\n",
       "      <td>2</td>\n",
       "      <td>2</td>\n",
       "      <td>11</td>\n",
       "      <td>21</td>\n",
       "      <td>25</td>\n",
       "      <td>...</td>\n",
       "      <td>16</td>\n",
       "      <td>9</td>\n",
       "      <td>6</td>\n",
       "      <td>14</td>\n",
       "      <td>18</td>\n",
       "      <td>0</td>\n",
       "      <td>20</td>\n",
       "      <td>4</td>\n",
       "      <td>19</td>\n",
       "      <td>1</td>\n",
       "    </tr>\n",
       "    <tr>\n",
       "      <th>4</th>\n",
       "      <td>75</td>\n",
       "      <td>16</td>\n",
       "      <td>27</td>\n",
       "      <td>39</td>\n",
       "      <td>20</td>\n",
       "      <td>6</td>\n",
       "      <td>3</td>\n",
       "      <td>10</td>\n",
       "      <td>24</td>\n",
       "      <td>12</td>\n",
       "      <td>...</td>\n",
       "      <td>14</td>\n",
       "      <td>13</td>\n",
       "      <td>4</td>\n",
       "      <td>10</td>\n",
       "      <td>11</td>\n",
       "      <td>0</td>\n",
       "      <td>16</td>\n",
       "      <td>10</td>\n",
       "      <td>9</td>\n",
       "      <td>1</td>\n",
       "    </tr>\n",
       "  </tbody>\n",
       "</table>\n",
       "<p>5 rows × 137 columns</p>\n",
       "</div>"
      ],
      "text/plain": [
       "   AAAA  AAAC  AAAG  AAAT  AACA  AACC  AACG  AACT  AAGA  AAGC  ...  TACA  \\\n",
       "0    51    22    21    29    26     9     0    18    27     7  ...     9   \n",
       "1    33    19    26    31    20     9     0    14    24    12  ...    12   \n",
       "2     9     9     7     6     7     9     5     4     9     5  ...     3   \n",
       "3    58    20    28    39    30     2     2    11    21    25  ...    16   \n",
       "4    75    16    27    39    20     6     3    10    24    12  ...    14   \n",
       "\n",
       "   TAGA  TATA  TCAA  TCCA  TCGA  TGAA  TGCA  TTAA  label  \n",
       "0    23    12    17    16     0    25     7    10      0  \n",
       "1    16     6    25    20     1    23     6     7      1  \n",
       "2     7     0     3    22     2     8     8     0      1  \n",
       "3     9     6    14    18     0    20     4    19      1  \n",
       "4    13     4    10    11     0    16    10     9      1  \n",
       "\n",
       "[5 rows x 137 columns]"
      ]
     },
     "execution_count": 7,
     "metadata": {},
     "output_type": "execute_result"
    }
   ],
   "source": [
    "df_true = load_df('data/vista1500', label=1)\n",
    "df_fake = load_df('data/randoms1500', label=0)\n",
    "df = pd.concat([df_true, df_fake], axis=0, ignore_index=True).sample(frac=1).reset_index(drop=True)\n",
    "df.head()"
   ]
  },
  {
   "cell_type": "code",
   "execution_count": 8,
   "metadata": {},
   "outputs": [],
   "source": [
    "X, y = df.drop('label', axis=1), df['label']"
   ]
  },
  {
   "cell_type": "code",
   "execution_count": 9,
   "metadata": {},
   "outputs": [],
   "source": [
    "model = RandomForestClassifier()\n",
    "results = cross_validate(model, X, y, scoring='roc_auc', cv=5)"
   ]
  },
  {
   "cell_type": "code",
   "execution_count": 10,
   "metadata": {},
   "outputs": [
    {
     "data": {
      "text/plain": [
       "{'fit_time': array([0.73930907, 0.71037817, 0.65799904, 0.64992905, 0.66678047]),\n",
       " 'score_time': array([0.01548648, 0.01424289, 0.01715136, 0.01600623, 0.01789308]),\n",
       " 'test_score': array([0.85167773, 0.86145206, 0.85317277, 0.84045855, 0.85860352])}"
      ]
     },
     "execution_count": 10,
     "metadata": {},
     "output_type": "execute_result"
    }
   ],
   "source": [
    "results"
   ]
  },
  {
   "cell_type": "code",
   "execution_count": 11,
   "metadata": {},
   "outputs": [
    {
     "data": {
      "text/plain": [
       "RandomForestClassifier(bootstrap=True, ccp_alpha=0.0, class_weight=None,\n",
       "                       criterion='gini', max_depth=None, max_features='auto',\n",
       "                       max_leaf_nodes=None, max_samples=None,\n",
       "                       min_impurity_decrease=0.0, min_impurity_split=None,\n",
       "                       min_samples_leaf=1, min_samples_split=2,\n",
       "                       min_weight_fraction_leaf=0.0, n_estimators=100,\n",
       "                       n_jobs=None, oob_score=False, random_state=None,\n",
       "                       verbose=0, warm_start=False)"
      ]
     },
     "execution_count": 11,
     "metadata": {},
     "output_type": "execute_result"
    }
   ],
   "source": [
    "model.fit(X, y)"
   ]
  },
  {
   "cell_type": "markdown",
   "metadata": {},
   "source": [
    "## Dividing chromosome"
   ]
  },
  {
   "cell_type": "code",
   "execution_count": 12,
   "metadata": {},
   "outputs": [
    {
     "data": {
      "application/vnd.jupyter.widget-view+json": {
       "model_id": "613ef03151c84f0ebb757297f3238c2d",
       "version_major": 2,
       "version_minor": 0
      },
      "text/plain": [
       "HBox(children=(IntProgress(value=0, max=46709979), HTML(value='')))"
      ]
     },
     "metadata": {},
     "output_type": "display_data"
    },
    {
     "name": "stdout",
     "output_type": "stream",
     "text": [
      "\n"
     ]
    },
    {
     "data": {
      "application/vnd.jupyter.widget-view+json": {
       "model_id": "c233d5dd03f94bfd82d34c3eaf0dbe31",
       "version_major": 2,
       "version_minor": 0
      },
      "text/plain": [
       "HBox(children=(IntProgress(value=0, max=62278), HTML(value='')))"
      ]
     },
     "metadata": {},
     "output_type": "display_data"
    },
    {
     "name": "stdout",
     "output_type": "stream",
     "text": [
      "\n"
     ]
    }
   ],
   "source": [
    "def chromosome_mean_features(chromosome, init=None):\n",
    "    # computes features for the entire chromosome without dividing it into sequences\n",
    "    counts = compute_features(chromosome, step=1, init=init, use_tqdm=True)\n",
    "    for k in list(counts.keys()):\n",
    "        if 'N' in k: \n",
    "            counts.pop(k)\n",
    "    return pd.Series(counts)\n",
    "\n",
    "\n",
    "def chromosome_features(chromosome, step, seq_length):\n",
    "    # compute features for all sequences in the chromosome\n",
    "    init = init_combinations()\n",
    "    rows = []\n",
    "    mean_row = chromosome_mean_features(chromosome, init)\n",
    "    for seq_start in tqdm(range(0, len(chromosome) - seq_length, step)):\n",
    "        sequence = chromosome[seq_start:seq_start+seq_length]\n",
    "        count = compute_features(sequence, step=1, init=init)\n",
    "        if len(count) > 136:\n",
    "            row = mean_row\n",
    "        else:\n",
    "            row = pd.Series(count)\n",
    "        rows.append(row)\n",
    "    df = pd.concat(rows, axis=1).T\n",
    "    return df\n",
    "\n",
    "\n",
    "data = load_fasta('data/chr21.fa')\n",
    "chr_features = chromosome_features(data, step=750, seq_length=1500)"
   ]
  },
  {
   "cell_type": "code",
   "execution_count": 13,
   "metadata": {},
   "outputs": [
    {
     "data": {
      "text/plain": [
       "((62278,), 0.54)"
      ]
     },
     "execution_count": 13,
     "metadata": {},
     "output_type": "execute_result"
    }
   ],
   "source": [
    "preds = model.predict_proba(chr_features)[:, 1]\n",
    "preds.shape, preds[1]"
   ]
  },
  {
   "cell_type": "code",
   "execution_count": 14,
   "metadata": {},
   "outputs": [],
   "source": [
    "def write_wig(preds, save_path):\n",
    "    with open(save_path, 'w') as f:\n",
    "        f.write('fixedStep chrom=chr21 start=0 step=750 span=1500\\n')\n",
    "        for pred in preds:\n",
    "            f.write(f'{pred}\\n')\n",
    "            \n",
    "write_wig(preds, save_path='data/results.wig')"
   ]
  },
  {
   "cell_type": "code",
   "execution_count": null,
   "metadata": {},
   "outputs": [],
   "source": []
  }
 ],
 "metadata": {
  "kernelspec": {
   "display_name": "myenv",
   "language": "python",
   "name": "myenv"
  },
  "language_info": {
   "codemirror_mode": {
    "name": "ipython",
    "version": 3
   },
   "file_extension": ".py",
   "mimetype": "text/x-python",
   "name": "python",
   "nbconvert_exporter": "python",
   "pygments_lexer": "ipython3",
   "version": "3.8.1"
  }
 },
 "nbformat": 4,
 "nbformat_minor": 4
}
